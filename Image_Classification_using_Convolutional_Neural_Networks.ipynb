{
  "nbformat": 4,
  "nbformat_minor": 0,
  "metadata": {
    "colab": {
      "name": "Image Classification using Convolutional Neural Networks.ipynb",
      "provenance": [],
      "collapsed_sections": [],
      "include_colab_link": true
    },
    "kernelspec": {
      "name": "python3",
      "display_name": "Python 3"
    },
    "accelerator": "GPU"
  },
  "cells": [
    {
      "cell_type": "markdown",
      "metadata": {
        "id": "view-in-github",
        "colab_type": "text"
      },
      "source": [
        "<a href=\"https://colab.research.google.com/github/Suba2020/DS/blob/main/Image_Classification_using_Convolutional_Neural_Networks.ipynb\" target=\"_parent\"><img src=\"https://colab.research.google.com/assets/colab-badge.svg\" alt=\"Open In Colab\"/></a>"
      ]
    },
    {
      "cell_type": "markdown",
      "metadata": {
        "id": "9JomQnlZ9v_E"
      },
      "source": [
        "### Image Classification for CFAR10"
      ]
    },
    {
      "cell_type": "markdown",
      "metadata": {
        "id": "Cv8skXGkFOgI"
      },
      "source": [
        "Image Classification (CFAR10) using Convolutional Neural Networks with Max Pooling:\r\n",
        "\r\n",
        "Tensorflow Framework, Python language\r\n",
        "\r\n",
        "Tools: Keras, matplotlib\r\n"
      ]
    },
    {
      "cell_type": "markdown",
      "metadata": {
        "id": "yEhQhE5mXh5K"
      },
      "source": [
        "Creation and Updates by Suba:\r\n",
        "1.   Image classification model creation, training and evaluation using GPU\r\n",
        "2.   Plotting of model accuracy as well as model loss for training and validation inputs, on 05-Mar-2021\r\n"
      ]
    },
    {
      "cell_type": "markdown",
      "metadata": {
        "id": "pLVhCarMwG70"
      },
      "source": [
        "### **Setup**"
      ]
    },
    {
      "cell_type": "code",
      "metadata": {
        "id": "pnNsCStbat7H"
      },
      "source": [
        ""
      ],
      "execution_count": null,
      "outputs": []
    },
    {
      "cell_type": "code",
      "metadata": {
        "id": "lD02kYvwYlfD"
      },
      "source": [
        "from __future__ import absolute_import, division, print_function, unicode_literals\n",
        "#!pip install tensorflow-gpu==2.0.0-beta1\n",
        "\n",
        "!pip install tensorflow\n",
        "!pip install tensorflow-gpu==2.4.1\n",
        "\n",
        "import numpy as np\n",
        "np.random.seed(7)\n",
        "\n",
        "\n",
        "import tensorflow as tf\n",
        "tf.random.set_seed(7)\n",
        "from tensorflow.keras import datasets, layers, models\n",
        "import matplotlib.pyplot as plt\n"
      ],
      "execution_count": null,
      "outputs": []
    },
    {
      "cell_type": "markdown",
      "metadata": {
        "id": "qGGgAUOKwsWA"
      },
      "source": [
        "### **Importing the dataset**"
      ]
    },
    {
      "cell_type": "code",
      "metadata": {
        "id": "GtGsDLIUfjr6",
        "colab": {
          "base_uri": "https://localhost:8080/"
        },
        "outputId": "f4aae805-3fea-4643-a9ad-ef68627943f2"
      },
      "source": [
        "(train_images, train_labels), (test_images, test_labels) = tf.keras.datasets.cifar10.load_data()\n",
        "print(\"train_images shape:\", train_images.shape)\n",
        "print(\"test_images shape:\", test_images.shape)\n",
        "print(\"train_labels shape:\", train_labels.shape)\n",
        "print(\"test_labels shape:\", test_labels.shape)\n",
        "\n",
        "train_images = train_images / 255\n",
        "test_images = test_images / 255"
      ],
      "execution_count": 2,
      "outputs": [
        {
          "output_type": "stream",
          "text": [
            "train_images shape: (50000, 32, 32, 3)\n",
            "test_images shape: (10000, 32, 32, 3)\n",
            "train_labels shape: (50000, 1)\n",
            "test_labels shape: (10000, 1)\n"
          ],
          "name": "stdout"
        }
      ]
    },
    {
      "cell_type": "markdown",
      "metadata": {
        "id": "DGcbDeTvhNng"
      },
      "source": [
        "### **Building the model**"
      ]
    },
    {
      "cell_type": "code",
      "metadata": {
        "id": "cecHMImDX9rO"
      },
      "source": [
        ""
      ],
      "execution_count": null,
      "outputs": []
    },
    {
      "cell_type": "code",
      "metadata": {
        "id": "XShPKaYehz_k"
      },
      "source": [
        "model = tf.keras.models.Sequential()"
      ],
      "execution_count": 3,
      "outputs": []
    },
    {
      "cell_type": "markdown",
      "metadata": {
        "id": "y6B9FgRyyGXe"
      },
      "source": [
        "Model has the following layers:\n",
        "\n",
        "```\n",
        "1. convolutional layer with 64 filters of size (5, 5), relu activation and the correct input shape\n",
        "2. max pooling layer with pool_size (2, 2)\n",
        "3. convolutional layer with 32 filters of size (5, 5), relu activation\n",
        "4. max pooling layer with pool_size (2, 2)\n",
        "5. flatten layer\n",
        "6. dense layer with 64 units and relu activation\n",
        "7. dense layer with 10 units and softmax activation\n",
        "```\n"
      ]
    },
    {
      "cell_type": "code",
      "metadata": {
        "id": "Gl8YudF-h8jg"
      },
      "source": [
        "# build the model\n",
        "model.add(layers.Conv2D(64, (5, 5), activation='relu', input_shape=(32, 32, 3)))\n",
        "model.add(layers.MaxPooling2D((2, 2)))\n",
        "model.add(layers.Conv2D(32, (5, 5), activation='relu'))\n",
        "model.add(layers.MaxPooling2D((2, 2)))"
      ],
      "execution_count": 4,
      "outputs": []
    },
    {
      "cell_type": "code",
      "metadata": {
        "id": "j3bdeLR1GXI7"
      },
      "source": [
        "model.add(layers.Flatten())\n",
        "model.add(layers.Dense(64, activation='relu'))\n",
        "model.add(layers.Dense(10, activation='softmax'))"
      ],
      "execution_count": 5,
      "outputs": []
    },
    {
      "cell_type": "code",
      "metadata": {
        "id": "fTXWDowbzmG4"
      },
      "source": [
        "# check the number of parameters in the model"
      ],
      "execution_count": 6,
      "outputs": []
    },
    {
      "cell_type": "code",
      "metadata": {
        "id": "6kc8AzABu0pI",
        "colab": {
          "base_uri": "https://localhost:8080/"
        },
        "outputId": "7a34c623-462c-42e8-bba0-b64e7c012780"
      },
      "source": [
        "model.summary()"
      ],
      "execution_count": 7,
      "outputs": [
        {
          "output_type": "stream",
          "text": [
            "Model: \"sequential\"\n",
            "_________________________________________________________________\n",
            "Layer (type)                 Output Shape              Param #   \n",
            "=================================================================\n",
            "conv2d (Conv2D)              (None, 28, 28, 64)        4864      \n",
            "_________________________________________________________________\n",
            "max_pooling2d (MaxPooling2D) (None, 14, 14, 64)        0         \n",
            "_________________________________________________________________\n",
            "conv2d_1 (Conv2D)            (None, 10, 10, 32)        51232     \n",
            "_________________________________________________________________\n",
            "max_pooling2d_1 (MaxPooling2 (None, 5, 5, 32)          0         \n",
            "_________________________________________________________________\n",
            "flatten (Flatten)            (None, 800)               0         \n",
            "_________________________________________________________________\n",
            "dense (Dense)                (None, 64)                51264     \n",
            "_________________________________________________________________\n",
            "dense_1 (Dense)              (None, 10)                650       \n",
            "=================================================================\n",
            "Total params: 108,010\n",
            "Trainable params: 108,010\n",
            "Non-trainable params: 0\n",
            "_________________________________________________________________\n"
          ],
          "name": "stdout"
        }
      ]
    },
    {
      "cell_type": "code",
      "metadata": {
        "id": "mU74Pt7zzwi_",
        "colab": {
          "base_uri": "https://localhost:8080/",
          "height": 35
        },
        "outputId": "ff6c704c-a40d-4661-c22e-11761bf09516"
      },
      "source": [
        "# compile the model\r\n",
        "'''Using 'Adam' optimizer and 'accuracy' metric'''"
      ],
      "execution_count": 9,
      "outputs": [
        {
          "output_type": "execute_result",
          "data": {
            "application/vnd.google.colaboratory.intrinsic+json": {
              "type": "string"
            },
            "text/plain": [
              "\"Using 'Adam' optimizer and 'accuracy' metric\""
            ]
          },
          "metadata": {
            "tags": []
          },
          "execution_count": 9
        }
      ]
    },
    {
      "cell_type": "code",
      "metadata": {
        "id": "oI2Rc89vussd"
      },
      "source": [
        "model.compile(optimizer='adam',\n",
        "              loss='sparse_categorical_crossentropy',\n",
        "              metrics=['accuracy'])\n"
      ],
      "execution_count": 10,
      "outputs": []
    },
    {
      "cell_type": "code",
      "metadata": {
        "id": "pKNhfS-_0Uhl",
        "colab": {
          "base_uri": "https://localhost:8080/"
        },
        "outputId": "928a494f-2217-47fa-8640-cd8deb076103"
      },
      "source": [
        "history = model.fit(train_images, train_labels, epochs=10, batch_size=128, shuffle=True, validation_data = (test_images, test_labels))"
      ],
      "execution_count": 11,
      "outputs": [
        {
          "output_type": "stream",
          "text": [
            "Epoch 1/10\n",
            "391/391 [==============================] - 6s 8ms/step - loss: 1.8654 - accuracy: 0.3215 - val_loss: 1.4850 - val_accuracy: 0.4603\n",
            "Epoch 2/10\n",
            "391/391 [==============================] - 3s 7ms/step - loss: 1.4004 - accuracy: 0.4941 - val_loss: 1.2704 - val_accuracy: 0.5435\n",
            "Epoch 3/10\n",
            "391/391 [==============================] - 3s 7ms/step - loss: 1.2303 - accuracy: 0.5623 - val_loss: 1.2266 - val_accuracy: 0.5653\n",
            "Epoch 4/10\n",
            "391/391 [==============================] - 3s 7ms/step - loss: 1.1453 - accuracy: 0.5987 - val_loss: 1.1377 - val_accuracy: 0.6002\n",
            "Epoch 5/10\n",
            "391/391 [==============================] - 3s 7ms/step - loss: 1.0663 - accuracy: 0.6261 - val_loss: 1.1223 - val_accuracy: 0.6036\n",
            "Epoch 6/10\n",
            "391/391 [==============================] - 3s 7ms/step - loss: 1.0253 - accuracy: 0.6416 - val_loss: 1.0745 - val_accuracy: 0.6244\n",
            "Epoch 7/10\n",
            "391/391 [==============================] - 3s 7ms/step - loss: 0.9729 - accuracy: 0.6605 - val_loss: 1.0447 - val_accuracy: 0.6375\n",
            "Epoch 8/10\n",
            "391/391 [==============================] - 3s 7ms/step - loss: 0.9359 - accuracy: 0.6727 - val_loss: 1.0464 - val_accuracy: 0.6358\n",
            "Epoch 9/10\n",
            "391/391 [==============================] - 3s 7ms/step - loss: 0.8991 - accuracy: 0.6872 - val_loss: 0.9980 - val_accuracy: 0.6562\n",
            "Epoch 10/10\n",
            "391/391 [==============================] - 3s 7ms/step - loss: 0.8644 - accuracy: 0.6990 - val_loss: 0.9881 - val_accuracy: 0.6549\n"
          ],
          "name": "stdout"
        }
      ]
    },
    {
      "cell_type": "code",
      "metadata": {
        "id": "BUlK35Oh64bV"
      },
      "source": [
        "# summarize history for accuracy\r\n",
        "def plot_acc(history):\r\n",
        "  plt.plot(history.history['accuracy'])\r\n",
        "  plt.plot(history.history['val_accuracy'])\r\n",
        "  plt.title('model accuracy')\r\n",
        "  plt.ylabel('accuracy')\r\n",
        "  plt.xlabel('epoch')\r\n",
        "  plt.legend(['train', 'test'], loc='upper left')\r\n",
        "  plt.show()\r\n",
        "# summarize history for loss\r\n",
        "def plot_loss(history):\r\n",
        "  plt.plot(history.history['loss'])\r\n",
        "  plt.plot(history.history['val_loss'])\r\n",
        "  plt.title('model loss')\r\n",
        "  plt.ylabel('loss')\r\n",
        "  plt.xlabel('epoch')\r\n",
        "  plt.legend(['train', 'test'], loc='upper left')\r\n",
        "  plt.show()"
      ],
      "execution_count": 12,
      "outputs": []
    },
    {
      "cell_type": "code",
      "metadata": {
        "colab": {
          "base_uri": "https://localhost:8080/",
          "height": 573
        },
        "id": "1XGxRBe365xy",
        "outputId": "498da108-3f90-40df-80cd-e06bf25b8ae2"
      },
      "source": [
        "plot_acc(history)\r\n",
        "plot_loss(history)"
      ],
      "execution_count": 13,
      "outputs": [
        {
          "output_type": "display_data",
          "data": {
            "image/png": "[encoded data removed]",
            "text/plain": [
              "<Figure size 432x288 with 1 Axes>"
            ]
          },
          "metadata": {
            "tags": [],
            "needs_background": "light"
          }
        },
        {
          "output_type": "display_data",
          "data": {
            "image/png": "[encoded data removed]",
            "text/plain": [
              "<Figure size 432x288 with 1 Axes>"
            ]
          },
          "metadata": {
            "tags": [],
            "needs_background": "light"
          }
        }
      ]
    }
  ]
}